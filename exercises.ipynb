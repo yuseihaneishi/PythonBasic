{
 "cells": [
  {
   "cell_type": "markdown",
   "metadata": {},
   "source": [
    "## 演習(Exercises) -関数-"
   ]
  },
  {
   "cell_type": "markdown",
   "metadata": {},
   "source": [
    "Q: リストを引数にして，各要素に，'_<その要素のindex番号>.png'を付けたリストを返す関数"
   ]
  },
  {
   "cell_type": "code",
   "execution_count": 6,
   "metadata": {},
   "outputs": [],
   "source": [
    "def add_png(filename_list):\n",
    "    \"\"\"\n",
    "    各要素に，'_<その要素のindex番号>.png'を付けたリストを返す\n",
    "    \n",
    "    Parameters\n",
    "    -----------------\n",
    "        filename_list: ファイル名のリスト\n",
    "    \n",
    "    Return\n",
    "    -----------------\n",
    "        result_list: filename_listの各要素に'_<その要素のindex番号>.png'を付けたリスト\n",
    "    \"\"\"\n",
    "    \n",
    "    result_list = []\n",
    "    for idx, filename in enumerate(filename_list):\n",
    "        result_list.append('{}_{}{}'.format(filename, idx, '.png'))\n",
    "    \n",
    "    return result_list\n"
   ]
  },
  {
   "cell_type": "code",
   "execution_count": 8,
   "metadata": {},
   "outputs": [
    {
     "data": {
      "text/plain": [
       "['filename1_0.png', 'filename2_1.png', 'filename3_2.png']"
      ]
     },
     "execution_count": 8,
     "metadata": {},
     "output_type": "execute_result"
    }
   ],
   "source": [
    "filename_list = ['filename1', 'filename2', 'filename3']\n",
    "add_png(filename_list)"
   ]
  },
  {
   "cell_type": "code",
   "execution_count": 12,
   "metadata": {},
   "outputs": [],
   "source": [
    "# リスト内包表記を使う\n",
    "def add_png(filename_list):\n",
    "    \"\"\"\n",
    "    各要素に，'_<その要素のindex番号>.png'を付けたリストを返す\n",
    "    \n",
    "    Parameters\n",
    "    -----------------\n",
    "        filename_list: ファイル名のリスト\n",
    "    \n",
    "    Return\n",
    "    -----------------\n",
    "        result_list: filename_listの各要素に，'_<その要素のindex番号>.png'を付けたリスト\n",
    "    \"\"\"\n",
    "    return ['{}_{}{}'.format(filename, idx, '.png') for idx, filename in enumerate(filename_list)]"
   ]
  },
  {
   "cell_type": "code",
   "execution_count": 13,
   "metadata": {},
   "outputs": [
    {
     "data": {
      "text/plain": [
       "['filename1_0.png', 'filename2_1.png', 'filename3_2.png']"
      ]
     },
     "execution_count": 13,
     "metadata": {},
     "output_type": "execute_result"
    }
   ],
   "source": [
    "filename_list = ['filename1', 'filename2', 'filename3']\n",
    "add_png(filename_list)"
   ]
  },
  {
   "cell_type": "code",
   "execution_count": 15,
   "metadata": {},
   "outputs": [],
   "source": [
    "#もっと汎用的なものにする\n",
    "# .pngを引数にする\n",
    "def add_extention(filename_list, extension='.png'):\n",
    "    \"\"\"\n",
    "    各要素に，'_<その要素のindex番号><extension>'を付けたリストを返す\n",
    "    \n",
    "    Parameters\n",
    "    -----------------\n",
    "        filename_list: ファイル名のリスト\n",
    "        extension: 拡張子\n",
    "    \n",
    "    Return\n",
    "    -----------------\n",
    "        result_list: filename_listの各要素に，'_<その要素のindex番号><extension>'を付けたリスト\n",
    "    \"\"\"\n",
    "    return ['{}_{}{}'.format(filename, idx, extension) for idx, filename in enumerate(filename_list)]\n"
   ]
  },
  {
   "cell_type": "code",
   "execution_count": 16,
   "metadata": {},
   "outputs": [
    {
     "data": {
      "text/plain": [
       "['filename1_0.png', 'filename2_1.png', 'filename3_2.png']"
      ]
     },
     "execution_count": 16,
     "metadata": {},
     "output_type": "execute_result"
    }
   ],
   "source": [
    "filename_list = ['filename1', 'filename2', 'filename3']\n",
    "add_extention(filename_list)"
   ]
  },
  {
   "cell_type": "code",
   "execution_count": 17,
   "metadata": {},
   "outputs": [
    {
     "data": {
      "text/plain": [
       "['filename1_0.jpg', 'filename2_1.jpg', 'filename3_2.jpg']"
      ]
     },
     "execution_count": 17,
     "metadata": {},
     "output_type": "execute_result"
    }
   ],
   "source": [
    "# '.jpg'でも同じ関数を使える\n",
    "add_extention(filename_list, '.jpg')"
   ]
  }
 ],
 "metadata": {
  "kernelspec": {
   "display_name": "Python 3",
   "language": "python",
   "name": "python3"
  },
  "language_info": {
   "codemirror_mode": {
    "name": "ipython",
    "version": 3
   },
   "file_extension": ".py",
   "mimetype": "text/x-python",
   "name": "python",
   "nbconvert_exporter": "python",
   "pygments_lexer": "ipython3",
   "version": "3.12.1"
  }
 },
 "nbformat": 4,
 "nbformat_minor": 2
}
