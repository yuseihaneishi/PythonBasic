{
 "cells": [
  {
   "cell_type": "markdown",
   "metadata": {},
   "source": [
    "## *argsと**kwargs<br>\n",
    "*argの場合はtuple\n",
    "**kwargsの場合はdictionary"
   ]
  },
  {
   "cell_type": "code",
   "execution_count": 1,
   "metadata": {},
   "outputs": [],
   "source": [
    "def func1(a, b):\n",
    "    return a + b"
   ]
  },
  {
   "cell_type": "code",
   "execution_count": 2,
   "metadata": {},
   "outputs": [],
   "source": [
    "#　不特定多数の引数を受け取れる*args\n",
    "def func2(*args):\n",
    "    return args[0] + args[1]"
   ]
  },
  {
   "cell_type": "code",
   "execution_count": 3,
   "metadata": {},
   "outputs": [
    {
     "name": "stdout",
     "output_type": "stream",
     "text": [
      "args' data type is <class 'tuple'>\n"
     ]
    },
    {
     "data": {
      "text/plain": [
       "['image1.png', 'image3.png']"
      ]
     },
     "execution_count": 3,
     "metadata": {},
     "output_type": "execute_result"
    }
   ],
   "source": [
    "def return_only_png(*args):\n",
    "    \n",
    "    png_list = []\n",
    "\n",
    "    for filename in args:\n",
    "        if filename[-3:] == 'png':\n",
    "            png_list.append(filename)\n",
    "    \n",
    "    # argsの中身はtuple\n",
    "    print(\"args' data type is {}\".format(type(args)))\n",
    "    \n",
    "    return png_list\n",
    "\n",
    "#　実行すると，.pngの要素だけがリストで帰ってくる\n",
    "return_only_png('image1.png', 'image2.jpg', 'image3.png', 'image4.jpeg')"
   ]
  },
  {
   "cell_type": "code",
   "execution_count": 4,
   "metadata": {},
   "outputs": [],
   "source": [
    "# **kwargsは*argsのdictionary版\n",
    "# 引数が多くなる場合はこれを使うと綺麗になる\n",
    "def print_dict(**kwargs):\n",
    "    \n",
    "    param1 = str(kwargs.get('param1'))\n",
    "    param2 = str(kwargs.get('param2', 'default_value'))\n",
    "    param3 = str(kwargs.get('param3'))\n",
    "    \n",
    "    print('param1 is {}'.format(param1))\n",
    "    print('param2 is {}'.format(param2))\n",
    "    print('param3 is {}'.format(param3))"
   ]
  },
  {
   "cell_type": "code",
   "execution_count": 5,
   "metadata": {},
   "outputs": [
    {
     "name": "stdout",
     "output_type": "stream",
     "text": [
      "[1, 2, 3, 4]\n",
      "1 2 3 4\n"
     ]
    }
   ],
   "source": [
    "a = [1, 2, 3, 4]\n",
    "print(a)\n",
    "# *をつけるとaを'unpack'した状態でprint関数に渡す\n",
    "print(*a)"
   ]
  },
  {
   "cell_type": "code",
   "execution_count": 6,
   "metadata": {},
   "outputs": [
    {
     "name": "stdout",
     "output_type": "stream",
     "text": [
      "[1, 2, 3, 4, 5, 6, 7, 8]\n",
      "{'one': 1, 'two': 2, 'three': 3, 'four': 4, 'five': 5}\n"
     ]
    }
   ],
   "source": [
    "# 長さが違うリストもunpackして１つの変数入れれば，１つのリストとして扱える\n",
    "list_a = [1, 2, 3]\n",
    "list_b = [4, 5, 6, 7, 8]\n",
    "list_a_b = [*list_a, *list_b]\n",
    "print(list_a_b)\n",
    "\n",
    "# **も同様にdictionaryのunpackができる．\n",
    "dict_a = {'one': 1, 'two': 2}\n",
    "dict_b = {'three': 3, 'four': 4, 'five':5}\n",
    "dict_a_b = {**dict_a, **dict_b}\n",
    "print(dict_a_b)"
   ]
  },
  {
   "cell_type": "code",
   "execution_count": 7,
   "metadata": {},
   "outputs": [
    {
     "data": {
      "text/plain": [
       "'image_1.png'"
      ]
     },
     "execution_count": 7,
     "metadata": {},
     "output_type": "execute_result"
    }
   ],
   "source": [
    "#　*はラッパー関数で使用することがある\n",
    "#　例えばこんな関数を\n",
    "def add_extention(filename, idx = 0, extension='.png'):\n",
    "    return '{}_{}{}'.format(filename, idx, extension)\n",
    "\n",
    "add_extention('image', idx=1, extension='.png')"
   ]
  },
  {
   "cell_type": "code",
   "execution_count": 10,
   "metadata": {},
   "outputs": [
    {
     "data": {
      "text/plain": [
       "['image_0.png', 'image_test_1.jpg', 'sample_1.jpeg']"
      ]
     },
     "execution_count": 10,
     "metadata": {},
     "output_type": "execute_result"
    }
   ],
   "source": [
    "# ラップする\n",
    "def wrap_add_extention(args):\n",
    "    return add_extention(*args)\n",
    "\n",
    "#すると，引数は１つ(args)なのでこんな感じで使う\n",
    "arg_tuple = ('image', 1, '.png')\n",
    "wrap_add_extention(arg_tuple)\n",
    "\n",
    "#これの何が嬉しいかというと\n",
    "#tupleのリストを\n",
    "arg_list = [('image', 0, '.png'), ('image_test', 1, '.jpg'), ('sample', 1, '.jpeg')]\n",
    "#簡単に処理できるようになる\n",
    "[wrap_add_extention(arg) for arg in arg_list]"
   ]
  }
 ],
 "metadata": {
  "kernelspec": {
   "display_name": "Python 3",
   "language": "python",
   "name": "python3"
  },
  "language_info": {
   "codemirror_mode": {
    "name": "ipython",
    "version": 3
   },
   "file_extension": ".py",
   "mimetype": "text/x-python",
   "name": "python",
   "nbconvert_exporter": "python",
   "pygments_lexer": "ipython3",
   "version": "3.12.1"
  }
 },
 "nbformat": 4,
 "nbformat_minor": 2
}
