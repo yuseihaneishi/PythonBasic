{
 "cells": [
  {
   "cell_type": "markdown",
   "metadata": {},
   "source": [
    "## Loop処理"
   ]
  },
  {
   "cell_type": "code",
   "execution_count": 1,
   "metadata": {},
   "outputs": [
    {
     "name": "stdout",
     "output_type": "stream",
     "text": [
      "red is NOT my favorite\n",
      "blue is my favorite\n",
      "green is NOT my favorite\n",
      "yellow is NOT my favorite\n",
      "white is NOT my favorite\n"
     ]
    }
   ],
   "source": [
    "colors = ['red', 'blue', 'green', 'yellow', 'white']\n",
    "for color in colors:\n",
    "    favorite_color = 'blue'\n",
    "    if color == favorite_color:\n",
    "        print('{} is my favorite'.format(color))\n",
    "    else:\n",
    "        print('{} is NOT my favorite'.format(color))"
   ]
  },
  {
   "cell_type": "code",
   "execution_count": 3,
   "metadata": {},
   "outputs": [
    {
     "data": {
      "text/plain": [
       "[0, 1, 2, 3, 4, 5, 6, 7, 8, 9]"
      ]
     },
     "execution_count": 3,
     "metadata": {},
     "output_type": "execute_result"
    }
   ],
   "source": [
    "list(range(10))"
   ]
  },
  {
   "cell_type": "code",
   "execution_count": 4,
   "metadata": {},
   "outputs": [
    {
     "name": "stdout",
     "output_type": "stream",
     "text": [
      "0\n",
      "1\n",
      "2\n",
      "3\n",
      "4\n",
      "5\n",
      "6\n",
      "7\n",
      "8\n",
      "9\n"
     ]
    }
   ],
   "source": [
    "for i in range(10):\n",
    "    print(i)"
   ]
  },
  {
   "cell_type": "code",
   "execution_count": 5,
   "metadata": {},
   "outputs": [
    {
     "name": "stdout",
     "output_type": "stream",
     "text": [
      "0: red is NOT my favorite\n",
      "1: blue is my favorite\n",
      "2: green is NOT my favorite\n",
      "3: yellow is NOT my favorite\n",
      "4: white is NOT my favorite\n"
     ]
    }
   ],
   "source": [
    "colors = ['red', 'blue', 'green', 'yellow', 'white']\n",
    "for index, color in enumerate(colors):\n",
    "    favorite_color = 'blue'\n",
    "    if color == favorite_color:\n",
    "        print('{}: {} is my favorite'.format(index, color))\n",
    "    else:\n",
    "        print('{}: {} is NOT my favorite'.format(index, color))"
   ]
  },
  {
   "cell_type": "code",
   "execution_count": 14,
   "metadata": {},
   "outputs": [
    {
     "data": {
      "text/plain": [
       "['red.png', 'blue.png', 'green.png', 'yellow.png', 'white.png']"
      ]
     },
     "execution_count": 14,
     "metadata": {},
     "output_type": "execute_result"
    }
   ],
   "source": [
    "colors = ['red', 'blue', 'green', 'yellow', 'white']\n",
    "colors_png = []\n",
    "for color in colors:\n",
    "    color_png = color + '.png'\n",
    "    colors_png.append(color_png)\n",
    "colors_png"
   ]
  },
  {
   "cell_type": "code",
   "execution_count": null,
   "metadata": {},
   "outputs": [],
   "source": []
  }
 ],
 "metadata": {
  "kernelspec": {
   "display_name": "Python 3",
   "language": "python",
   "name": "python3"
  },
  "language_info": {
   "codemirror_mode": {
    "name": "ipython",
    "version": 3
   },
   "file_extension": ".py",
   "mimetype": "text/x-python",
   "name": "python",
   "nbconvert_exporter": "python",
   "pygments_lexer": "ipython3",
   "version": "3.12.1"
  }
 },
 "nbformat": 4,
 "nbformat_minor": 2
}
