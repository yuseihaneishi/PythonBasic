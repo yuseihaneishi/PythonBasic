{
 "cells": [
  {
   "cell_type": "markdown",
   "metadata": {},
   "source": [
    "## 関数(Function)"
   ]
  },
  {
   "cell_type": "code",
   "execution_count": 27,
   "metadata": {},
   "outputs": [],
   "source": [
    "def function_name(param1, param2):\n",
    "    '''\n",
    "    This function prints something\n",
    "    \n",
    "    Parameters\n",
    "    --------------------------------------\n",
    "        param1: explain param1\n",
    "        param2: explain param2\n",
    "        \n",
    "    Returns\n",
    "    --------------------------------------\n",
    "        strings: param1 and param2\n",
    "    '''\n",
    "    print('Do something for {} and {}'.format(param1, param2))\n",
    "    \n",
    "    return param1 + ' and ' + param2"
   ]
  },
  {
   "cell_type": "code",
   "execution_count": 28,
   "metadata": {},
   "outputs": [
    {
     "name": "stdout",
     "output_type": "stream",
     "text": [
      "Do something for argument1 and argument2\n"
     ]
    }
   ],
   "source": [
    "arg1 = 'argument1'\n",
    "arg2 = 'argument2'\n",
    "\n",
    "func_return = function_name(arg1, arg2)"
   ]
  },
  {
   "cell_type": "code",
   "execution_count": 29,
   "metadata": {},
   "outputs": [
    {
     "data": {
      "text/plain": [
       "'argument1 and argument2'"
      ]
     },
     "execution_count": 29,
     "metadata": {},
     "output_type": "execute_result"
    }
   ],
   "source": [
    "func_return"
   ]
  },
  {
   "cell_type": "code",
   "execution_count": 33,
   "metadata": {},
   "outputs": [],
   "source": [
    "def function_name(param1, param2):\n",
    "    '''\n",
    "    This function prints something\n",
    "    \n",
    "    Parameters\n",
    "    --------------------------------------\n",
    "        param1: explain param1\n",
    "        param2: explain param2\n",
    "        \n",
    "    Returns\n",
    "    --------------------------------------\n",
    "        strings: param1 and param2\n",
    "    '''\n",
    "    print('Do something for {} and {}'.format(param1, param2))\n",
    "    \n",
    "    return param1 + ' and ' + param2"
   ]
  },
  {
   "cell_type": "code",
   "execution_count": 34,
   "metadata": {},
   "outputs": [
    {
     "name": "stdout",
     "output_type": "stream",
     "text": [
      "Do something for argument1 and argument2\n",
      "hellow world\n"
     ]
    }
   ],
   "source": [
    "arg1 = 'argument1'\n",
    "arg2 = 'argument2'\n",
    "\n",
    "function_name(arg1, arg2)\n",
    "print('hellow world')"
   ]
  },
  {
   "cell_type": "markdown",
   "metadata": {},
   "source": [
    "### 戻り値を変数に入れ忘れたら'_'を使う('_':最後に実行したコードの戻り値が格納されている)"
   ]
  },
  {
   "cell_type": "code",
   "execution_count": 38,
   "metadata": {},
   "outputs": [
    {
     "data": {
      "text/plain": [
       "'argument1 and argument2'"
      ]
     },
     "execution_count": 38,
     "metadata": {},
     "output_type": "execute_result"
    }
   ],
   "source": [
    "return_value = _\n",
    "return_value"
   ]
  },
  {
   "cell_type": "code",
   "execution_count": 39,
   "metadata": {},
   "outputs": [
    {
     "name": "stdout",
     "output_type": "stream",
     "text": [
      "hello world\n"
     ]
    }
   ],
   "source": [
    "p_r = print('hello world')"
   ]
  },
  {
   "cell_type": "code",
   "execution_count": 40,
   "metadata": {},
   "outputs": [
    {
     "data": {
      "text/plain": [
       "True"
      ]
     },
     "execution_count": 40,
     "metadata": {},
     "output_type": "execute_result"
    }
   ],
   "source": [
    "p_r is None"
   ]
  },
  {
   "cell_type": "code",
   "execution_count": 41,
   "metadata": {},
   "outputs": [
    {
     "name": "stdout",
     "output_type": "stream",
     "text": [
      "Do something for a and b\n"
     ]
    }
   ],
   "source": [
    "ret = function_name('a', 'b')"
   ]
  },
  {
   "cell_type": "code",
   "execution_count": 42,
   "metadata": {},
   "outputs": [
    {
     "data": {
      "text/plain": [
       "False"
      ]
     },
     "execution_count": 42,
     "metadata": {},
     "output_type": "execute_result"
    }
   ],
   "source": [
    "ret is None"
   ]
  },
  {
   "cell_type": "code",
   "execution_count": 46,
   "metadata": {},
   "outputs": [
    {
     "name": "stdout",
     "output_type": "stream",
     "text": [
      "Do something for b and a\n"
     ]
    },
    {
     "data": {
      "text/plain": [
       "'b and a'"
      ]
     },
     "execution_count": 46,
     "metadata": {},
     "output_type": "execute_result"
    }
   ],
   "source": [
    "function_name(param2 = 'a', param1 = 'b')\n",
    "#パラメータ名を指定して引数を渡すことが可能"
   ]
  },
  {
   "cell_type": "code",
   "execution_count": 52,
   "metadata": {},
   "outputs": [],
   "source": [
    "#デフォルト値があるパラメータをデフォルト値がないパラメータの前に置けない\n",
    "def function_name(param1, param2='world'):\n",
    "    '''\n",
    "    This function prints something\n",
    "    \n",
    "    Parameters\n",
    "    --------------------------------------\n",
    "        param1: explain param1\n",
    "        param2: explain param2\n",
    "        \n",
    "    Returns\n",
    "    --------------------------------------\n",
    "        strings: param1 and param2\n",
    "    '''\n",
    "    print('Do something for {} and {}'.format(param1, param2))\n",
    "    \n",
    "    return param1 + ' and ' + param2"
   ]
  },
  {
   "cell_type": "code",
   "execution_count": 53,
   "metadata": {},
   "outputs": [
    {
     "name": "stdout",
     "output_type": "stream",
     "text": [
      "Do something for hello and world\n"
     ]
    },
    {
     "data": {
      "text/plain": [
       "'hello and world'"
      ]
     },
     "execution_count": 53,
     "metadata": {},
     "output_type": "execute_result"
    }
   ],
   "source": [
    "function_name(param1 = 'hello')"
   ]
  }
 ],
 "metadata": {
  "kernelspec": {
   "display_name": "Python 3",
   "language": "python",
   "name": "python3"
  },
  "language_info": {
   "codemirror_mode": {
    "name": "ipython",
    "version": 3
   },
   "file_extension": ".py",
   "mimetype": "text/x-python",
   "name": "python",
   "nbconvert_exporter": "python",
   "pygments_lexer": "ipython3",
   "version": "3.12.1"
  }
 },
 "nbformat": 4,
 "nbformat_minor": 2
}
